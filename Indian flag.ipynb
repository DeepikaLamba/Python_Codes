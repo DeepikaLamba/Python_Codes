{
 "cells": [
  {
   "cell_type": "code",
   "execution_count": 1,
   "metadata": {},
   "outputs": [
    {
     "name": "stderr",
     "output_type": "stream",
     "text": [
      "<ipython-input-1-e831f615a66d>:9: UserWarning: Setting the 'color' property will override the edgecolor or facecolor properties.\n",
      "  chakra = mpatch.Circle((6,3),radius=0.95,color = 'blue',fill = False,linewidth = 8,edgecolor='black')\n"
     ]
    },
    {
     "data": {
      "image/png": "[encoded data removed]",
      "text/plain": [
       "<Figure size 432x288 with 1 Axes>"
      ]
     },
     "metadata": {
      "needs_background": "light"
     },
     "output_type": "display_data"
    }
   ],
   "source": [
    "import numpy as np\n",
    "import matplotlib.pyplot as plt\n",
    "%matplotlib inline\n",
    "import matplotlib.patches as mpatch\n",
    "\n",
    "rec = mpatch.Rectangle((0,0),width=12,height=2,facecolor = 'green',edgecolor='black')\n",
    "rec2 = mpatch.Rectangle((0,2),width=12,height=2,facecolor = 'white',edgecolor='black')\n",
    "rec3 = mpatch.Rectangle((0,4),width=12,height=2,facecolor = 'orange',edgecolor='black')\n",
    "chakra = mpatch.Circle((6,3),radius=0.95,color = 'blue',fill = False,linewidth = 8,edgecolor='black')\n",
    "\n",
    "m,n = plt.subplots()\n",
    "\n",
    "n.add_patch(rec)\n",
    "n.add_patch(rec2)\n",
    "n.add_patch(rec3)\n",
    "n.add_patch(chakra)\n",
    "plt.plot(6,3,marker='o',color = 'Blue',markersize = '9.5')\n",
    "\n",
    "plt.plot([6,6],[4,2],color='Blue')\n",
    "plt.plot([5,7],[3,3],color='Blue')\n",
    "plt.plot([5.84,6.16],[3.84,2.16],color='Blue')\n",
    "plt.plot([5.84,6.16],[2.16,3.84],color='Blue')\n",
    "plt.plot([5.68,6.32],[3.68,2.32],color='Blue')\n",
    "plt.plot([5.68,6.32],[2.32,3.68],color='Blue')\n",
    "plt.plot([5.52,6.48],[3.52,2.48],color='Blue')\n",
    "plt.plot([5.52,6.48],[2.48,3.52],color='Blue')\n",
    "plt.plot([5.36,6.64],[3.36,2.64],color='Blue')\n",
    "plt.plot([5.36,6.64],[2.64,3.36],color='Blue')\n",
    "plt.plot([5.2,6.8],[3.2,2.8],color='Blue')\n",
    "plt.plot([5.2,6.8],[2.8,3.2],color='Blue')\n",
    "# # plt.plot([5.2,6.8],[3.5,2.3],color='Blue',)\n",
    "plt.axis('equal')\n",
    "plt.show()"
   ]
  },
  {
   "cell_type": "code",
   "execution_count": null,
   "metadata": {},
   "outputs": [],
   "source": []
  }
 ],
 "metadata": {
  "kernelspec": {
   "display_name": "Python 3",
   "language": "python",
   "name": "python3"
  },
  "language_info": {
   "codemirror_mode": {
    "name": "ipython",
    "version": 3
   },
   "file_extension": ".py",
   "mimetype": "text/x-python",
   "name": "python",
   "nbconvert_exporter": "python",
   "pygments_lexer": "ipython3",
   "version": "3.8.3"
  }
 },
 "nbformat": 4,
 "nbformat_minor": 4
}
